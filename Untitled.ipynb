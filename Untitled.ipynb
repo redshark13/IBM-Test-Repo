{
  "metadata": {
    "language_info": {
      "codemirror_mode": {
        "name": "python",
        "version": 3
      },
      "file_extension": ".py",
      "mimetype": "text/x-python",
      "name": "python",
      "nbconvert_exporter": "python",
      "pygments_lexer": "ipython3",
      "version": "3.8"
    },
    "kernelspec": {
      "name": "python",
      "display_name": "Pyolite",
      "language": "python"
    }
  },
  "nbformat_minor": 4,
  "nbformat": 4,
  "cells": [
    {
      "cell_type": "markdown",
      "source": "# My Jupyter Notebook on IBM Watson Studio",
      "metadata": {}
    },
    {
      "cell_type": "markdown",
      "source": "Bold Text: __Ripley P Roane Jr.__\nDesired occupation: Financial Analyst or Data Analyst.",
      "metadata": {}
    },
    {
      "cell_type": "markdown",
      "source": "italic text: *I am interested in data science because data is everywhere, in everything and is the most important resource.",
      "metadata": {}
    },
    {
      "cell_type": "markdown",
      "source": "### The cell below will be a simple calculation",
      "metadata": {}
    },
    {
      "cell_type": "code",
      "source": "1 + 1\n",
      "metadata": {
        "trusted": true
      },
      "execution_count": 1,
      "outputs": [
        {
          "execution_count": 1,
          "output_type": "execute_result",
          "data": {
            "text/plain": "2"
          },
          "metadata": {}
        }
      ]
    },
    {
      "cell_type": "markdown",
      "source": " \n\n1. This is a diamond\n\n\n\n<html>\n<style>\nbody {\n  font-size: 20px;\n}\n</style>\n<body>\n\n<span style='font-size:100px;'>&#9671;</span>\n\n\n</body>\n</html>\n\n\n\n\n\nhttps://detailership.com/portfolio/2021/12/6/2021-chevrolet-corvette-stingray-rapid-blue\n\n>Nice Car huh?\n",
      "metadata": {}
    },
    {
      "cell_type": "code",
      "source": "",
      "metadata": {},
      "execution_count": null,
      "outputs": []
    }
  ]
}